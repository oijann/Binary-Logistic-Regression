{
 "cells": [
  {
   "cell_type": "code",
   "execution_count": 10,
   "metadata": {},
   "outputs": [
    {
     "name": "stdout",
     "output_type": "stream",
     "text": [
      "0.7619047619047619\n",
      "[[130  17]\n",
      " [ 38  46]]\n",
      "[0]\n"
     ]
    },
    {
     "name": "stderr",
     "output_type": "stream",
     "text": [
      "C:\\Users\\ACER\\Anaconda3\\lib\\site-packages\\sklearn\\utils\\validation.py:578: DataConversionWarning: A column-vector y was passed when a 1d array was expected. Please change the shape of y to (n_samples, ), for example using ravel().\n",
      "  y = column_or_1d(y, warn=True)\n"
     ]
    }
   ],
   "source": [
    "import pandas as pd\n",
    "import numpy as np\n",
    "from sklearn.linear_model import LogisticRegression\n",
    "from sklearn.model_selection import train_test_split\n",
    "import seaborn as sns\n",
    "import matplotlib.pyplot as plt\n",
    "from sklearn import metrics\n",
    "\n",
    "Data = pd.read_csv (\"diabetes2.csv\")\n",
    "Data.head().transpose()\n",
    "\n",
    "Data.describe()\n",
    "\n",
    "from sklearn.model_selection import train_test_split\n",
    "X= Data.drop(\"Outcome\", axis=1)\n",
    "Y= Data[[\"Outcome\"]]\n",
    "X_train, X_test, Y_train, Y_test = train_test_split(X,Y,test_size=0.30, random_state=7)\n",
    "\n",
    "model = LogisticRegression()\n",
    "model.fit(X_train, Y_train)\n",
    "Y_predict= model.predict(X_test)\n",
    "model_score= model.score(X_test, Y_test)\n",
    "\n",
    "print(model_score)\n",
    "print(metrics.confusion_matrix(Y_test, Y_predict))\n",
    "\n",
    "Y_predict=model.predict([[1,84,65,30,0,25.6,0.352,30]])\n",
    "print(Y_predict)"
   ]
  }
 ],
 "metadata": {
  "kernelspec": {
   "display_name": "Python 3",
   "language": "python",
   "name": "python3"
  },
  "language_info": {
   "codemirror_mode": {
    "name": "ipython",
    "version": 3
   },
   "file_extension": ".py",
   "mimetype": "text/x-python",
   "name": "python",
   "nbconvert_exporter": "python",
   "pygments_lexer": "ipython3",
   "version": "3.6.3"
  }
 },
 "nbformat": 4,
 "nbformat_minor": 2
}
